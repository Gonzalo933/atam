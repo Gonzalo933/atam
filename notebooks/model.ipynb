{
 "cells": [
  {
   "cell_type": "code",
   "execution_count": 1,
   "metadata": {},
   "outputs": [],
   "source": [
    "import pandas as pd\n",
    "from sklearn.model_selection import KFold\n",
    "from sklearn.dummy import DummyRegressor\n",
    "import sklearn.metrics as metrics\n",
    "from sklearn import linear_model\n",
    "import numpy as np\n",
    "from sklearn.model_selection import GridSearchCV\n",
    "from sklearn.svm import SVR\n",
    "from sklearn.pipeline import Pipeline\n",
    "from sklearn.preprocessing import StandardScaler\n",
    "from sklearn.tree import DecisionTreeRegressor\n",
    "from sklearn.neighbors import KNeighborsRegressor\n",
    "from sklearn.ensemble import GradientBoostingRegressor"
   ]
  },
  {
   "cell_type": "code",
   "execution_count": 2,
   "metadata": {},
   "outputs": [],
   "source": [
    "svr_parameters = [\n",
    "    {\n",
    "        \"kernel\": [\"rbf\", \"poly\"],\n",
    "        \"gamma\": [\"scale\", \"auto\"],\n",
    "        \"C\": [1, 100],\n",
    "    }\n",
    "]\n",
    "\n",
    "MODELS = {\n",
    "    \"DummyRegressor\": DummyRegressor(),\n",
    "    \"linear_regression\": linear_model.LinearRegression(),\n",
    "    \"ridge regression\": GridSearchCV(\n",
    "        linear_model.Ridge(),\n",
    "        [{\"alpha\": [1.0, 0.5, 0.25]}],\n",
    "        scoring=\"neg_mean_absolute_percentage_error\",\n",
    "    ),\n",
    "    \"lasso\": GridSearchCV(\n",
    "        linear_model.Lasso(),\n",
    "        [{\"alpha\": [1.0, 0.5, 0.25]}],\n",
    "        scoring=\"neg_mean_absolute_percentage_error\",\n",
    "    ),\n",
    "    \"elasticNet\": GridSearchCV(\n",
    "        linear_model.ElasticNet(),\n",
    "        [{\"alpha\": [1.0, 0.5, 0.25]}],\n",
    "        scoring=\"neg_mean_absolute_percentage_error\",\n",
    "    ),\n",
    "    \"svr\": GridSearchCV(\n",
    "        SVR(), svr_parameters, scoring=\"neg_mean_absolute_percentage_error\", n_jobs=-1\n",
    "    ),\n",
    "    \"DecisionTreeRegressor\": DecisionTreeRegressor(),\n",
    "    \"KNeighborsRegressor\": KNeighborsRegressor(),\n",
    "    \"GradientBoostingRegressor\": GradientBoostingRegressor(),\n",
    "}\n",
    "\n",
    "trained_models = {}"
   ]
  },
  {
   "cell_type": "code",
   "execution_count": 3,
   "metadata": {},
   "outputs": [],
   "source": [
    "def execute_model(kf, clf, model_name, X, y):\n",
    "    mape = []\n",
    "    mae = []\n",
    "    clf = Pipeline([(\"scaler\", StandardScaler()), (\"model\", clf)])\n",
    "    print(f\"Model: {model_name}.\")\n",
    "    for train_index, test_index in kf.split(X):\n",
    "        X_train, X_test = X.iloc[train_index], X.iloc[test_index]\n",
    "        y_train, y_test = y.iloc[train_index], y.iloc[test_index]\n",
    "        clf.fit(X_train, y_train)\n",
    "        if hasattr(clf.steps[-1][1], \"best_params_\"):\n",
    "            print(f\"    best: {clf.steps[-1][1].best_params_}\")\n",
    "        y_pred = clf.predict(X_test)\n",
    "        mape.append(metrics.mean_absolute_percentage_error(y_test, y_pred))\n",
    "        mae.append(metrics.mean_absolute_error(y_test, y_pred))\n",
    "    print(f\"    mean MAPE: {np.mean(mape)} (+-{np.std(mape)})\")\n",
    "    print(f\"    mean MAE: {np.mean(mae)} (+-{np.std(mae)})\")\n",
    "    return clf.fit(X, y)"
   ]
  },
  {
   "cell_type": "markdown",
   "metadata": {},
   "source": [
    "## Compare models and dataset V1 vs Dataset V2"
   ]
  },
  {
   "cell_type": "code",
   "execution_count": 4,
   "metadata": {},
   "outputs": [],
   "source": [
    "df = pd.read_csv(f\"../data/dataset.csv\")\n",
    "X, y = df[df.columns.difference([\"value_energy\"])], df[\"value_energy\"]"
   ]
  },
  {
   "cell_type": "code",
   "execution_count": 5,
   "metadata": {},
   "outputs": [
    {
     "name": "stdout",
     "output_type": "stream",
     "text": [
      "Model: DummyRegressor.\n",
      "    mean MAPE: 0.8381422928015594 (+-0.16979693083928302)\n",
      "    mean MAE: 0.4116483612560396 (+-0.1120917643437213)\n",
      "Model: linear_regression.\n",
      "    mean MAPE: 0.5240695987409194 (+-0.07738194217598399)\n",
      "    mean MAE: 0.29804551594094486 (+-0.08331850087457779)\n",
      "Model: ridge regression.\n",
      "    best: {'alpha': 1.0}\n",
      "    best: {'alpha': 1.0}\n",
      "    best: {'alpha': 1.0}\n",
      "    best: {'alpha': 1.0}\n",
      "    mean MAPE: 0.5218349019149321 (+-0.07672052532773556)\n",
      "    mean MAE: 0.2972931106657398 (+-0.0836929364305104)\n",
      "Model: lasso.\n",
      "    best: {'alpha': 0.25}\n",
      "    best: {'alpha': 1.0}\n",
      "    best: {'alpha': 0.25}\n",
      "    best: {'alpha': 0.25}\n",
      "    mean MAPE: 0.6973099034486389 (+-0.10298777378012956)\n",
      "    mean MAE: 0.3648133570874502 (+-0.1395114603439251)\n",
      "Model: elasticNet.\n",
      "    best: {'alpha': 0.25}\n",
      "    best: {'alpha': 0.25}\n",
      "    best: {'alpha': 0.25}\n",
      "    best: {'alpha': 0.25}\n",
      "    mean MAPE: 0.5813119758491976 (+-0.09421475538564333)\n",
      "    mean MAE: 0.3219532368269912 (+-0.12218579304009239)\n",
      "Model: svr.\n",
      "    best: {'C': 1, 'gamma': 'scale', 'kernel': 'rbf'}\n",
      "    best: {'C': 1, 'gamma': 'scale', 'kernel': 'rbf'}\n",
      "    best: {'C': 1, 'gamma': 'scale', 'kernel': 'rbf'}\n",
      "    best: {'C': 1, 'gamma': 'scale', 'kernel': 'rbf'}\n",
      "    mean MAPE: 0.3593456608073266 (+-0.030026313932850563)\n",
      "    mean MAE: 0.24523081269905556 (+-0.10734420463784983)\n",
      "Model: DecisionTreeRegressor.\n",
      "    mean MAPE: 0.5426784890467328 (+-0.04862680446887614)\n",
      "    mean MAE: 0.3419487566137566 (+-0.11341805075000426)\n",
      "Model: KNeighborsRegressor.\n",
      "    mean MAPE: 0.4370064939601078 (+-0.020096934689548863)\n",
      "    mean MAE: 0.2757599287749288 (+-0.10545508253586873)\n",
      "Model: GradientBoostingRegressor.\n",
      "    mean MAPE: 0.4192560635585374 (+-0.042220512674800474)\n",
      "    mean MAE: 0.2520649973777835 (+-0.08462923076262922)\n"
     ]
    }
   ],
   "source": [
    "kf = KFold(n_splits=4)\n",
    "for model_name, clf in MODELS.items():\n",
    "    if trained_models.get(model_name) is None:\n",
    "        trained_models[model_name] = execute_model(kf, clf, model_name, X, y)"
   ]
  },
  {
   "cell_type": "code",
   "execution_count": 6,
   "metadata": {},
   "outputs": [
    {
     "name": "stdout",
     "output_type": "stream",
     "text": [
      "Model: DummyRegressor.\n",
      "    mean MAPE: 0.8381422928015594 (+-0.16979693083928302)\n",
      "    mean MAE: 0.4116483612560396 (+-0.1120917643437213)\n",
      "Model: linear_regression.\n",
      "    mean MAPE: 0.5227238644071519 (+-0.08084609088947085)\n",
      "    mean MAE: 0.2974519586302165 (+-0.08187198687394248)\n",
      "Model: ridge regression.\n",
      "    best: {'alpha': 1.0}\n",
      "    best: {'alpha': 1.0}\n",
      "    best: {'alpha': 1.0}\n",
      "    best: {'alpha': 1.0}\n",
      "    mean MAPE: 0.5204100229109603 (+-0.08005847299273498)\n",
      "    mean MAE: 0.296691205150446 (+-0.08222846955255225)\n",
      "Model: lasso.\n",
      "    best: {'alpha': 0.25}\n",
      "    best: {'alpha': 1.0}\n",
      "    best: {'alpha': 0.25}\n",
      "    best: {'alpha': 0.25}\n",
      "    mean MAPE: 0.6973099034486389 (+-0.10298777378012956)\n",
      "    mean MAE: 0.3648133570874502 (+-0.1395114603439251)\n",
      "Model: elasticNet.\n",
      "    best: {'alpha': 0.25}\n",
      "    best: {'alpha': 0.25}\n",
      "    best: {'alpha': 0.25}\n",
      "    best: {'alpha': 0.25}\n",
      "    mean MAPE: 0.5813120249058453 (+-0.09421485402481654)\n",
      "    mean MAE: 0.3219532489903678 (+-0.12218578636775637)\n",
      "Model: svr.\n",
      "    best: {'C': 1, 'gamma': 'scale', 'kernel': 'rbf'}\n",
      "    best: {'C': 1, 'gamma': 'scale', 'kernel': 'rbf'}\n",
      "    best: {'C': 1, 'gamma': 'auto', 'kernel': 'rbf'}\n",
      "    best: {'C': 1, 'gamma': 'scale', 'kernel': 'rbf'}\n",
      "    mean MAPE: 0.36165948153662214 (+-0.03249379977725117)\n",
      "    mean MAE: 0.24598352716610938 (+-0.10199578384449273)\n",
      "Model: DecisionTreeRegressor.\n",
      "    mean MAPE: 0.5378284151710893 (+-0.05300635377981665)\n",
      "    mean MAE: 0.34856068986568983 (+-0.11053979006215378)\n",
      "Model: KNeighborsRegressor.\n",
      "    mean MAPE: 0.43852174019318907 (+-0.030106090603638228)\n",
      "    mean MAE: 0.2762933215303215 (+-0.09704248330787126)\n",
      "Model: GradientBoostingRegressor.\n",
      "    mean MAPE: 0.41389254951874105 (+-0.04429162703132432)\n",
      "    mean MAE: 0.2503093376771112 (+-0.08208573020816225)\n"
     ]
    }
   ],
   "source": [
    "df = pd.read_csv(f\"../data/dataset_v2.csv\")\n",
    "X, y = df[df.columns.difference([\"value_energy\"])], df[\"value_energy\"]\n",
    "kf = KFold(n_splits=4)\n",
    "for model_name, clf in MODELS.items():\n",
    "    trained_models[model_name] = execute_model(kf, clf, model_name, X, y)"
   ]
  },
  {
   "cell_type": "markdown",
   "metadata": {},
   "source": [
    "Hay poca o ninguna diferencia. No parece que el ritmo cardiaco aporte mucha información"
   ]
  },
  {
   "cell_type": "code",
   "execution_count": 7,
   "metadata": {},
   "outputs": [
    {
     "name": "stdout",
     "output_type": "stream",
     "text": [
      "Model: DummyRegressor.\n",
      "    mean MAPE: 0.8381422928015594 (+-0.16979693083928302)\n",
      "    mean MAE: 0.4116483612560396 (+-0.1120917643437213)\n",
      "Model: linear_regression.\n",
      "    mean MAPE: 0.4668159221899545 (+-0.051215037388312804)\n",
      "    mean MAE: 0.26757277292862813 (+-0.07332858085564337)\n",
      "Model: ridge regression.\n",
      "    best: {'alpha': 1.0}\n",
      "    best: {'alpha': 1.0}\n",
      "    best: {'alpha': 1.0}\n",
      "    best: {'alpha': 1.0}\n",
      "    mean MAPE: 0.46525823744118616 (+-0.05127231207834393)\n",
      "    mean MAE: 0.2670795430410799 (+-0.07356631172467933)\n",
      "Model: lasso.\n",
      "    best: {'alpha': 0.25}\n",
      "    best: {'alpha': 0.25}\n",
      "    best: {'alpha': 0.25}\n",
      "    best: {'alpha': 0.25}\n",
      "    mean MAPE: 0.6076948782029093 (+-0.056552187018287986)\n",
      "    mean MAE: 0.34007439958870683 (+-0.15214299931973713)\n",
      "Model: elasticNet.\n",
      "    best: {'alpha': 0.25}\n",
      "    best: {'alpha': 0.25}\n",
      "    best: {'alpha': 0.25}\n",
      "    best: {'alpha': 0.25}\n",
      "    mean MAPE: 0.48674754400634246 (+-0.05409403397533029)\n",
      "    mean MAE: 0.2889743971558123 (+-0.12054559924988888)\n",
      "Model: svr.\n",
      "    best: {'C': 1, 'gamma': 'scale', 'kernel': 'rbf'}\n",
      "    best: {'C': 1, 'gamma': 'scale', 'kernel': 'rbf'}\n",
      "    best: {'C': 1, 'gamma': 'scale', 'kernel': 'rbf'}\n",
      "    best: {'C': 1, 'gamma': 'scale', 'kernel': 'rbf'}\n",
      "    mean MAPE: 0.3577347770385895 (+-0.026366141154311466)\n",
      "    mean MAE: 0.23459874210111628 (+-0.0959602526422494)\n",
      "Model: DecisionTreeRegressor.\n",
      "    mean MAPE: 0.5123893606760013 (+-0.04700121980427075)\n",
      "    mean MAE: 0.3118682804232804 (+-0.08509097059469278)\n",
      "Model: KNeighborsRegressor.\n",
      "    mean MAPE: 0.39831606195264035 (+-0.024629651737310444)\n",
      "    mean MAE: 0.24620832600732598 (+-0.08557693740458676)\n",
      "Model: GradientBoostingRegressor.\n",
      "    mean MAPE: 0.37993647048905327 (+-0.035417783016578004)\n",
      "    mean MAE: 0.22884640657244126 (+-0.07139043358423193)\n"
     ]
    }
   ],
   "source": [
    "df = pd.read_csv(f\"../data/dataset_v3.csv\")\n",
    "X, y = df[df.columns.difference([\"value_energy\"])], df[\"value_energy\"]\n",
    "kf = KFold(n_splits=4)\n",
    "for model_name, clf in MODELS.items():\n",
    "    trained_models[model_name] = execute_model(kf, clf, model_name, X, y)"
   ]
  },
  {
   "cell_type": "markdown",
   "metadata": {},
   "source": [
    "Parece que la inclusión de los gradientes mejora el modelo por norma general."
   ]
  }
 ],
 "metadata": {
  "kernelspec": {
   "display_name": "Python 3",
   "language": "python",
   "name": "python3"
  },
  "language_info": {
   "codemirror_mode": {
    "name": "ipython",
    "version": 3
   },
   "file_extension": ".py",
   "mimetype": "text/x-python",
   "name": "python",
   "nbconvert_exporter": "python",
   "pygments_lexer": "ipython3",
   "version": "3.7.3"
  }
 },
 "nbformat": 4,
 "nbformat_minor": 2
}
